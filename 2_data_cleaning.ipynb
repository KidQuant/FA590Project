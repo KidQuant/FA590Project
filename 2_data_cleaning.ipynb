{
 "cells": [
  {
   "cell_type": "code",
   "execution_count": 1,
   "metadata": {},
   "outputs": [],
   "source": [
    "import numpy as np\n",
    "import pandas as pd\n",
    "import sklearn.preprocessing\n",
    "import datetime\n",
    "import pickle\n",
    "\n",
    "df = pd.read_csv('data/features_subset.csv')\n",
    "\n",
    "# with open('return_predictability.pkl', 'rb') as f:\n",
    "#     test = pickle.load(f)"
   ]
  },
  {
   "cell_type": "code",
   "execution_count": 4,
   "metadata": {},
   "outputs": [],
   "source": [
    "df['DATE'] = pd.to_datetime(df['DATE'])"
   ]
  },
  {
   "cell_type": "code",
   "execution_count": 5,
   "metadata": {},
   "outputs": [],
   "source": [
    "df = df.loc[df['mvel1']>= 1e+02]"
   ]
  },
  {
   "cell_type": "code",
   "execution_count": 2,
   "metadata": {},
   "outputs": [],
   "source": [
    "limit = len(df) * .60\n",
    "df = df.dropna(thresh=limit, axis=1)"
   ]
  },
  {
   "cell_type": "code",
   "execution_count": 3,
   "metadata": {},
   "outputs": [
    {
     "data": {
      "text/plain": [
       "aeavol             1633564\n",
       "roeq               1627203\n",
       "ear                1605896\n",
       "nincr              1603577\n",
       "pctacc             1527929\n",
       "acc                1527883\n",
       "absacc             1527883\n",
       "chatoia            1508967\n",
       "pchdepr            1470446\n",
       "pchcapx_ia         1419211\n",
       "pchquick           1415858\n",
       "invest             1408497\n",
       "pchsale_pchrect    1407115\n",
       "pchcurrat          1385499\n",
       "operprof           1382965\n",
       "tb                 1376417\n",
       "chinv              1345615\n",
       "cfp                1338036\n",
       "cfp_ia             1338036\n",
       "chpmia             1309264\n",
       "pchgm_pchsale      1304215\n",
       "sgr                1303238\n",
       "chempia            1299762\n",
       "hire               1299762\n",
       "egr                1286721\n",
       "lgr                1273837\n",
       "gma                1265132\n",
       "chcsho             1262312\n",
       "agr                1258636\n",
       "divi               1258593\n",
       "rd                 1258593\n",
       "divo               1258593\n",
       "ps                 1258593\n",
       "depr               1233478\n",
       "tang               1212668\n",
       "cashdebt           1173369\n",
       "quick              1173093\n",
       "roic               1161460\n",
       "salerec            1153397\n",
       "currat             1144233\n",
       "bm_ia              1064480\n",
       "bm                 1064480\n",
       "cashpr             1064175\n",
       "salecash           1055126\n",
       "lev                1033711\n",
       "dy                 1031127\n",
       "sp                 1027605\n",
       "ep                 1020200\n",
       "mve_ia             1020171\n",
       "herf               1017153\n",
       "convind            1017131\n",
       "sin                1017131\n",
       "securedind         1017131\n",
       "age                1017131\n",
       "mom36m              969051\n",
       "pricedelay          398191\n",
       "betasq              398119\n",
       "beta                398119\n",
       "idiovol             398119\n",
       "dolvol              350198\n",
       "turn                349233\n",
       "mom12m              337087\n",
       "chmom               337087\n",
       "std_dolvol          314633\n",
       "zerotrade           308193\n",
       "ill                 306914\n",
       "std_turn            304262\n",
       "mom6m               156440\n",
       "mom1m                31603\n",
       "retvol                3449\n",
       "mvel1                 2983\n",
       "baspread               634\n",
       "maxret                 554\n",
       "indmom                  24\n",
       "macro_ntis               0\n",
       "Date                     0\n",
       "macro_svar               0\n",
       "macro_dfy                0\n",
       "macro_tms                0\n",
       "macro_tbl                0\n",
       "permno                   0\n",
       "macro_bm                 0\n",
       "macro_ep                 0\n",
       "macro_dp                 0\n",
       "risk_premium             0\n",
       "DATE                     0\n",
       "macro_mkt-rf             0\n",
       "dtype: int64"
      ]
     },
     "execution_count": 3,
     "metadata": {},
     "output_type": "execute_result"
    }
   ],
   "source": [
    "pd.set_option('display.max_rows', None)\n",
    "df.isna().sum().sort_values(ascending=False)"
   ]
  },
  {
   "cell_type": "code",
   "execution_count": 4,
   "metadata": {},
   "outputs": [],
   "source": [
    "df = df.fillna(df.groupby('DATE').transform('median'))\n",
    "df = df.sort_values(by=['DATE', 'permno'])\n",
    "# df = df[~(df['DATE'] < '2002-01-31')]\n",
    "df = df[~(df['DATE'] < '1990-01-31')]"
   ]
  },
  {
   "cell_type": "code",
   "execution_count": 5,
   "metadata": {},
   "outputs": [],
   "source": [
    "variables = df.columns[~df.columns.isin(['DATE', 'permno'])].tolist()\n",
    "df[variables] = df[variables].apply(lambda x: x.clip(*x.quantile([0.01, 0.99])))"
   ]
  },
  {
   "cell_type": "code",
   "execution_count": 6,
   "metadata": {},
   "outputs": [],
   "source": [
    "df.to_csv('factors_1900.csv', index=False)"
   ]
  },
  {
   "cell_type": "code",
   "execution_count": null,
   "metadata": {},
   "outputs": [],
   "source": []
  }
 ],
 "metadata": {
  "kernelspec": {
   "display_name": "statclass",
   "language": "python",
   "name": "python3"
  },
  "language_info": {
   "codemirror_mode": {
    "name": "ipython",
    "version": 3
   },
   "file_extension": ".py",
   "mimetype": "text/x-python",
   "name": "python",
   "nbconvert_exporter": "python",
   "pygments_lexer": "ipython3",
   "version": "3.11.7"
  }
 },
 "nbformat": 4,
 "nbformat_minor": 2
}
