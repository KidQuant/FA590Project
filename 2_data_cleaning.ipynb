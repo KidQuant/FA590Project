{
 "cells": [
  {
   "cell_type": "code",
   "execution_count": 2,
   "metadata": {},
   "outputs": [],
   "source": [
    "import numpy as np\n",
    "import pandas as pd\n",
    "import sklearn.preprocessing\n",
    "import datetime\n",
    "import pickle\n",
    "\n",
    "df = pd.read_csv('data/features_subset.csv')\n",
    "\n",
    "# with open('return_predictability.pkl', 'rb') as f:\n",
    "#     test = pickle.load(f)"
   ]
  },
  {
   "cell_type": "code",
   "execution_count": 4,
   "metadata": {},
   "outputs": [],
   "source": [
    "df['DATE'] = pd.to_datetime(df['DATE'])"
   ]
  },
  {
   "cell_type": "code",
   "execution_count": 5,
   "metadata": {},
   "outputs": [],
   "source": [
    "df = df.loc[df['mvel1']>= 1e+02]"
   ]
  },
  {
   "cell_type": "code",
   "execution_count": 6,
   "metadata": {},
   "outputs": [],
   "source": [
    "limit = len(df) * .60\n",
    "df = df.dropna(thresh=limit, axis=1)"
   ]
  },
  {
   "cell_type": "code",
   "execution_count": 7,
   "metadata": {},
   "outputs": [
    {
     "data": {
      "text/plain": [
       "aeavol             1628215\n",
       "roeq               1621869\n",
       "ear                1600570\n",
       "nincr              1598266\n",
       "pctacc             1523159\n",
       "acc                1523114\n",
       "absacc             1523114\n",
       "chatoia            1504117\n",
       "pchdepr            1465722\n",
       "pchcapx_ia         1414500\n",
       "pchquick           1411132\n",
       "invest             1403815\n",
       "pchsale_pchrect    1402323\n",
       "pchcurrat          1380778\n",
       "operprof           1378231\n",
       "tb                 1371857\n",
       "chinv              1340940\n",
       "cfp                1333412\n",
       "cfp_ia             1333412\n",
       "chpmia             1304532\n",
       "pchgm_pchsale      1299486\n",
       "sgr                1298509\n",
       "hire               1295104\n",
       "chempia            1295104\n",
       "egr                1282058\n",
       "lgr                1269178\n",
       "gma                1260477\n",
       "chcsho             1257660\n",
       "agr                1253985\n",
       "divi               1253942\n",
       "divo               1253942\n",
       "rd                 1253942\n",
       "ps                 1253942\n",
       "depr               1228920\n",
       "tang               1208105\n",
       "cashdebt           1168851\n",
       "quick              1168531\n",
       "roic               1156937\n",
       "salerec            1148833\n",
       "currat             1139677\n",
       "bm                 1059935\n",
       "bm_ia              1059935\n",
       "cashpr             1059680\n",
       "salecash           1050634\n",
       "lev                1029221\n",
       "dy                 1026645\n",
       "sp                 1023120\n",
       "ep                 1015719\n",
       "mve_ia             1015690\n",
       "herf               1012673\n",
       "convind            1012651\n",
       "age                1012651\n",
       "securedind         1012651\n",
       "sin                1012651\n",
       "mom36m              965955\n",
       "pricedelay          396932\n",
       "betasq              396861\n",
       "idiovol             396861\n",
       "beta                396861\n",
       "dolvol              348545\n",
       "turn                345260\n",
       "mom12m              335873\n",
       "chmom               335873\n",
       "std_dolvol          312843\n",
       "ill                 305269\n",
       "zerotrade           303957\n",
       "std_turn            300211\n",
       "mom6m               155768\n",
       "mom1m                31362\n",
       "retvol                2879\n",
       "baspread                86\n",
       "indmom                  24\n",
       "maxret                   7\n",
       "macro_tms                0\n",
       "macro_dfy                0\n",
       "macro_svar               0\n",
       "Date                     0\n",
       "macro_ntis               0\n",
       "macro_tbl                0\n",
       "permno                   0\n",
       "macro_bm                 0\n",
       "macro_ep                 0\n",
       "macro_dp                 0\n",
       "risk_premium             0\n",
       "DATE                     0\n",
       "mvel1                    0\n",
       "macro_mkt-rf             0\n",
       "dtype: int64"
      ]
     },
     "execution_count": 7,
     "metadata": {},
     "output_type": "execute_result"
    }
   ],
   "source": [
    "pd.set_option('display.max_rows', None)\n",
    "df.isna().sum().sort_values(ascending=False)"
   ]
  },
  {
   "cell_type": "code",
   "execution_count": 8,
   "metadata": {},
   "outputs": [],
   "source": [
    "df = df.fillna(df.groupby('DATE').transform('median'))\n",
    "df = df.sort_values(by=['DATE', 'permno'])\n",
    "df = df[~(df['DATE'] < '2002-01-31')]"
   ]
  },
  {
   "cell_type": "code",
   "execution_count": 9,
   "metadata": {},
   "outputs": [],
   "source": [
    "variables = df.columns[~df.columns.isin(['DATE', 'permno'])].tolist()\n",
    "df[variables] = df[variables].apply(lambda x: x.clip(*x.quantile([0.01, 0.99])))"
   ]
  },
  {
   "cell_type": "code",
   "execution_count": 12,
   "metadata": {},
   "outputs": [],
   "source": [
    "df.to_csv('factors_2002.csv', index=False)"
   ]
  },
  {
   "cell_type": "code",
   "execution_count": null,
   "metadata": {},
   "outputs": [],
   "source": []
  }
 ],
 "metadata": {
  "kernelspec": {
   "display_name": "statclass",
   "language": "python",
   "name": "python3"
  },
  "language_info": {
   "codemirror_mode": {
    "name": "ipython",
    "version": 3
   },
   "file_extension": ".py",
   "mimetype": "text/x-python",
   "name": "python",
   "nbconvert_exporter": "python",
   "pygments_lexer": "ipython3",
   "version": "3.11.7"
  }
 },
 "nbformat": 4,
 "nbformat_minor": 2
}
