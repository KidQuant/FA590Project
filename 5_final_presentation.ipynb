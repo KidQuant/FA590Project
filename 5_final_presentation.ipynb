{
 "cells": [
  {
   "cell_type": "code",
   "execution_count": 1,
   "metadata": {},
   "outputs": [
    {
     "data": {
      "text/plain": [
       "DataTransformerRegistry.enable('vegafusion')"
      ]
     },
     "execution_count": 1,
     "metadata": {},
     "output_type": "execute_result"
    }
   ],
   "source": [
    "# Import packages\n",
    "import numpy as np\n",
    "import pandas as pd\n",
    "import math\n",
    "import datetime\n",
    "import os\n",
    "import matplotlib.pyplot as plt\n",
    "from collections import Counter\n",
    "import statsmodels.api as sm\n",
    "from scipy.stats import t\n",
    "from sklearn.utils import check_array\n",
    "from functools import reduce\n",
    "import seaborn as sns\n",
    "import warnings\n",
    "import collections\n",
    "from matplotlib.pylab import rcParams\n",
    "warnings.simplefilter(action='ignore', category=Warning)\n",
    "import seaborn as sns\n",
    "sns.set()\n",
    "import pickle\n",
    "import altair as alt\n",
    "from vega_datasets import data\n",
    "\n",
    "alt.renderers.enable(\"browser\")\n",
    "alt.data_transformers.enable('vegafusion')"
   ]
  },
  {
   "cell_type": "code",
   "execution_count": null,
   "metadata": {},
   "outputs": [],
   "source": [
    "# df = pd.read_csv('data/factors_1965.csv', parse_dates=['DATE'])"
   ]
  },
  {
   "cell_type": "code",
   "execution_count": 2,
   "metadata": {},
   "outputs": [
    {
     "name": "stdout",
     "output_type": "stream",
     "text": [
      "   permno       DATE        mvel1      beta    betasq     chmom     dolvol  \\\n",
      "0   10145 1965-02-26   1498872.00  0.983510  0.967291  0.105988  11.546907   \n",
      "1   10401 1965-02-26  35392058.00  0.780829  0.609694 -0.063768  12.240330   \n",
      "2   10786 1965-02-26   1695284.75  0.806119  0.649827 -0.130519  12.005040   \n",
      "3   10989 1965-02-26   1295887.75  1.199748  1.439395  0.073609  11.756961   \n",
      "4   11260 1965-02-26   2302001.25  1.257269  1.580725 -0.167320  12.240330   \n",
      "\n",
      "    idiovol    indmom     mom1m  ...  macro_ep  macro_bm  macro_ntis  \\\n",
      "0  0.022307  0.035075  0.104116  ...  2.936836  0.471399    0.014823   \n",
      "1  0.013395  0.335139 -0.007326  ...  2.936836  0.471399    0.014823   \n",
      "2  0.024366  0.104106  0.060498  ...  2.936836  0.471399    0.014823   \n",
      "3  0.022717  0.118513  0.068807  ...  2.936836  0.471399    0.014823   \n",
      "4  0.035883  0.185424 -0.036885  ...  2.936836  0.471399    0.014823   \n",
      "\n",
      "   macro_tbl  macro_tms  macro_dfy  macro_svar  macro_mkt-rf  macro_hml  \\\n",
      "0     0.0393    -0.0379     0.0055    0.000393          0.44       0.11   \n",
      "1     0.0393    -0.0379     0.0055    0.000393          0.44       0.11   \n",
      "2     0.0393    -0.0379     0.0055    0.000393          0.44       0.11   \n",
      "3     0.0393    -0.0379     0.0055    0.000393          0.44       0.11   \n",
      "4     0.0393    -0.0379     0.0055    0.000393          0.44       0.11   \n",
      "\n",
      "   macro_smb  \n",
      "0       3.55  \n",
      "1       3.55  \n",
      "2       3.55  \n",
      "3       3.55  \n",
      "4       3.55  \n",
      "\n",
      "[5 rows x 92 columns]\n"
     ]
    }
   ],
   "source": [
    "# with open('data/features_1965.pkl', 'wb') as f:\n",
    "#     pickle.dump(df, f)\n",
    "\n",
    "with open('data/features_1965.pkl', 'rb') as f:\n",
    "    df = pickle.load(f)\n",
    "    print(df.head())\n"
   ]
  },
  {
   "cell_type": "code",
   "execution_count": null,
   "metadata": {},
   "outputs": [],
   "source": [
    "np.mean(df.groupby('DATE')['risk_premium'].mean())"
   ]
  },
  {
   "cell_type": "code",
   "execution_count": null,
   "metadata": {},
   "outputs": [],
   "source": [
    "df[df.columns[2:]] = df[df.columns[2:]].astype('float32')\n",
    "\n",
    "df = df.sort_values(by=['DATE', 'permno'], ascending=True)\n",
    "df.head()"
   ]
  },
  {
   "cell_type": "code",
   "execution_count": null,
   "metadata": {},
   "outputs": [],
   "source": [
    "print('Number of months: ', df['DATE'].nunique())\n",
    "print('START: ', df['DATE'].min())\n",
    "print('End: ', df['DATE'].max())"
   ]
  },
  {
   "cell_type": "code",
   "execution_count": null,
   "metadata": {},
   "outputs": [],
   "source": [
    "print('Number of unique stocks: ', df['permno'].nunique())"
   ]
  },
  {
   "cell_type": "code",
   "execution_count": null,
   "metadata": {},
   "outputs": [],
   "source": [
    "df.info(verbose=True)"
   ]
  },
  {
   "cell_type": "code",
   "execution_count": null,
   "metadata": {},
   "outputs": [],
   "source": [
    "df.tail()"
   ]
  },
  {
   "cell_type": "code",
   "execution_count": null,
   "metadata": {},
   "outputs": [],
   "source": [
    "Number_stocks_per_month = Counter(df['DATE'])\n",
    "Number_stocks_per_month = pd.DataFrame(Number_stocks_per_month.items(), columns=['DATE', 'Numer_of_Stocks'])\n",
    "print('Minimum number of stocks per month: ', Number_stocks_per_month['Numer_of_Stocks'].min())\n",
    "print('Maximum number of stocks per month: ', Number_stocks_per_month['Numer_of_Stocks'].max())\n",
    "print('Mean number of stocks pre month: ', Number_stocks_per_month['Numer_of_Stocks'].mean())\n",
    "Number_stocks_per_month.plot(x='DATE', \n",
    "                             y='Numer_of_Stocks'\n",
    "                             ,grid=True, figsize=(9,5) )\n",
    "plt.xlim(datetime.date(1970,1,31),datetime.date(2021,11,30))\n",
    "plt.legend('')\n",
    "plt.savefig('images/number_of_stocks.png', bbox_inches='tight')\n"
   ]
  },
  {
   "cell_type": "code",
   "execution_count": null,
   "metadata": {},
   "outputs": [],
   "source": [
    "features = df.columns[~df.columns.isin(['permno', 'Date'])]\n",
    "desc_stats = df[features]\n",
    "desc_stats = df[features].describe()\n",
    "desc_stats"
   ]
  },
  {
   "cell_type": "code",
   "execution_count": null,
   "metadata": {},
   "outputs": [],
   "source": [
    "fig, ax = plt.subplots()\n",
    "fig.set_figheight(30)\n",
    "fig.set_figwidth(30)\n",
    "df[features].hist(layout=(-1, 3), bins=np.linspace(-1,1,50), ax=ax)"
   ]
  },
  {
   "cell_type": "code",
   "execution_count": null,
   "metadata": {},
   "outputs": [],
   "source": [
    "risk_data = df[[\"risk_premium\", \"permno\", \"DATE\"]]\n",
    "#create equal weights\n",
    "risk_data[\"eq_weights\"] = 1/risk_data.groupby('DATE')['permno'].transform('size')\n",
    "risk_data['premium_stock_ew'] = risk_data['risk_premium'] * risk_data['eq_weights']\n",
    "risk_data['returns'] = risk_data.groupby('DATE')['premium_stock_ew'].transform('sum')\n",
    "\n",
    "risk_data = risk_data[['DATE', 'returns']].drop_duplicates()\n",
    "risk_data = risk_data.set_index('DATE')\n",
    "\n",
    "risk_data.plot(grid=True, figsize=(9, 5))\n",
    "plt.ylabel('Percentage')\n",
    "plt.xlim(datetime.date(1970,1,31),datetime.date(2021,11,30))\n",
    "plt.legend('')\n",
    "plt.savefig('images/risk_premium.png', bbox_inches='tight')\n"
   ]
  },
  {
   "cell_type": "code",
   "execution_count": null,
   "metadata": {},
   "outputs": [],
   "source": [
    "rcParams['figure.figsize'] = 15, 10\n",
    "sns.histplot(data = df2, x='mvel1', binrange = (0, 15000000))"
   ]
  },
  {
   "cell_type": "code",
   "execution_count": null,
   "metadata": {},
   "outputs": [],
   "source": [
    "r2oos_ols_ff = pd.read_csv('r2\\OLS_FF.csv', index_col = \"Unnamed: 0\")\n",
    "r2oos_ols_3 = pd.read_csv('r2\\OLS_3.csv', index_col = \"Unnamed: 0\")\n",
    "r2oos_ols_7 = pd.read_csv('r2\\OLS_7.csv', index_col = \"Unnamed: 0\")\n",
    "r2oos_ols_15 = pd.read_csv('r2\\OLS_15.csv', index_col = \"Unnamed: 0\")\n",
    "r2oos_ols_full = pd.read_csv('r2\\OLS_full.csv', index_col = \"Unnamed: 0\")\n",
    "r2oos_lr_ff = pd.read_csv('r2\\lr-FF.csv', index_col = \"Unnamed: 0\")\n",
    "r2oos_lr_3 = pd.read_csv('r2\\lr-3.csv', index_col = \"Unnamed: 0\")\n",
    "r2oos_lr_7 = pd.read_csv('r2\\lr-7.csv', index_col = \"Unnamed: 0\")\n",
    "r2oos_lr_15 = pd.read_csv('r2\\lr-15.csv', index_col = \"Unnamed: 0\")\n",
    "r2oos_lr_full = pd.read_csv('r2\\lr_full.csv', index_col = \"Unnamed: 0\")\n"
   ]
  },
  {
   "cell_type": "code",
   "execution_count": null,
   "metadata": {},
   "outputs": [],
   "source": [
    "r2oos_ols_ff.reset_index(inplace=True)\n",
    "r2oos_ols_3.reset_index(inplace=True)\n",
    "r2oos_ols_7.reset_index(inplace=True)\n",
    "r2oos_ols_15.reset_index(inplace=True)\n",
    "r2oos_ols_full.reset_index(inplace=True)\n",
    "r2oos_lr_ff.reset_index(inplace=True)\n",
    "r2oos_lr_3.reset_index(inplace=True)\n",
    "r2oos_lr_7.reset_index(inplace=True)\n",
    "r2oos_lr_15.reset_index(inplace=True)\n",
    "r2oos_lr_full.reset_index(inplace=True)"
   ]
  },
  {
   "cell_type": "code",
   "execution_count": null,
   "metadata": {},
   "outputs": [],
   "source": [
    "dfs = [r2oos_ols_ff, r2oos_ols_3, r2oos_ols_7, r2oos_ols_15, r2oos_ols_full,\n",
    "       r2oos_lr_ff,r2oos_lr_3,r2oos_lr_7,r2oos_lr_15,r2oos_lr_full]\n",
    "\n",
    "df_r2oos  = reduce(lambda left,right: pd.merge(left,right, on = \"index\"), dfs)"
   ]
  },
  {
   "cell_type": "code",
   "execution_count": null,
   "metadata": {},
   "outputs": [],
   "source": [
    "df_r2oos"
   ]
  },
  {
   "cell_type": "code",
   "execution_count": null,
   "metadata": {},
   "outputs": [],
   "source": [
    "#Plot results\n",
    "rcParams['figure.figsize'] = 16, 6\n",
    "df_melted=df_r2oos.melt(id_vars=\"index\",var_name=\"Model\",value_name=\"R2OOS\")\n",
    "df_melted = df_melted.rename(columns={'index': 'Sample'})\n",
    "sns.barplot(x=df_melted[\"Model\"], y= df_melted[\"R2OOS\"], hue= df_melted[\"Sample\"]);"
   ]
  },
  {
   "cell_type": "code",
   "execution_count": null,
   "metadata": {},
   "outputs": [],
   "source": [
    "plt.savefig('images/sample_simple.png', bbox_inches='tight')"
   ]
  },
  {
   "cell_type": "code",
   "execution_count": null,
   "metadata": {},
   "outputs": [],
   "source": [
    "lm_var = pd.read_csv('var_imp_lm.csv')\n",
    "ols_var = pd.read_csv('var_imp_huber.csv')"
   ]
  },
  {
   "cell_type": "code",
   "execution_count": null,
   "metadata": {},
   "outputs": [],
   "source": [
    "fea_imp_lr = lm_var.sort_values(['var_imp', 'Feature'], ascending=[True, False]).iloc[-10:]\n",
    "fea_imp_ols = ols_var.sort_values(['var_imp', 'Feature'], ascending=[True, False]).iloc[-10:]\n",
    "fig, axes = plt.subplots(1, 2)\n",
    "fea_imp_lr.plot(kind='barh', x='Feature', y='var_imp', figsize=(7, 5), ax=axes[1], legend=None, title='Linear Regression (Full)', ylabel='')\n",
    "fea_imp_ols.plot(kind='barh', x='Feature', y='var_imp', figsize=(11, 5), ax=axes[0], legend=None, xlabel=None, title='Huber Regression (Full)')\n",
    "plt.show()"
   ]
  },
  {
   "cell_type": "code",
   "execution_count": null,
   "metadata": {},
   "outputs": [],
   "source": [
    "r2oos_enet = pd.read_csv('r2_complex/r2_ENet_model.csv', index_col = \"Unnamed: 0\")\n",
    "r2oos_pcr = pd.read_csv('r2_complex/r2_PCR_model.csv', index_col = \"Unnamed: 0\")\n",
    "r2oos_pls = pd.read_csv('r2_complex/r2_PLS_model.csv', index_col = \"Unnamed: 0\")\n",
    "r2oos_gbrt = pd.read_csv('r2_complex/r2_GBRT_model.csv', index_col = \"Unnamed: 0\")\n",
    "r2oos_nn1 = pd.read_csv('r2_complex/r2_NN1_model.csv', index_col = \"Unnamed: 0\")\n",
    "r2oos_nn2 = pd.read_csv('r2_complex/r2_NN2_model.csv', index_col = \"Unnamed: 0\")\n",
    "r2oos_nn3 = pd.read_csv('r2_complex/r2_NN3_model.csv', index_col = \"Unnamed: 0\")\n",
    "r2oos_nn4 = pd.read_csv('r2_complex/r2_NN4_model.csv', index_col = \"Unnamed: 0\")\n",
    "r2oos_nn5 = pd.read_csv('r2_complex/r2_NN5_model.csv', index_col = \"Unnamed: 0\")"
   ]
  },
  {
   "cell_type": "code",
   "execution_count": null,
   "metadata": {},
   "outputs": [],
   "source": [
    "r2oos_enet.reset_index(inplace=True)\n",
    "r2oos_pcr.reset_index(inplace=True) \n",
    "r2oos_pls.reset_index(inplace=True) \n",
    "r2oos_gbrt.reset_index(inplace=True)\n",
    "r2oos_nn1.reset_index(inplace=True) \n",
    "r2oos_nn2.reset_index(inplace=True) \n",
    "r2oos_nn3.reset_index(inplace=True) \n",
    "r2oos_nn4 .reset_index(inplace=True)\n",
    "r2oos_nn5.reset_index(inplace=True)"
   ]
  },
  {
   "cell_type": "code",
   "execution_count": null,
   "metadata": {},
   "outputs": [],
   "source": [
    "dfs = [r2oos_enet, r2oos_pcr, r2oos_pls, r2oos_gbrt, r2oos_nn1,r2oos_nn2,r2oos_nn3,r2oos_nn4, r2oos_nn5]\n",
    "\n",
    "df_r2oos  = reduce(lambda left,right: pd.merge(left,right, on = \"index\"), dfs)\n",
    "df_r2oos"
   ]
  },
  {
   "cell_type": "code",
   "execution_count": null,
   "metadata": {},
   "outputs": [],
   "source": [
    "#Plot results\n",
    "rcParams['figure.figsize'] = 16, 4\n",
    "df_melted=df_r2oos.melt(id_vars=\"index\",var_name=\"Model\",value_name=\"R2OOS\")\n",
    "df_melted = df_melted.rename(columns={'index': 'Sample'})\n",
    "sns.barplot(x=df_melted[\"Model\"], y= df_melted[\"R2OOS\"], hue= df_melted[\"Sample\"]);"
   ]
  },
  {
   "cell_type": "code",
   "execution_count": null,
   "metadata": {},
   "outputs": [],
   "source": [
    "comp_enet = pd.read_csv('comp_enet.csv',index_col = \"Unnamed: 0\", parse_dates=['time'])\n",
    "comp_gbrt = pd.read_csv('comp_gbrt.csv',index_col = \"Unnamed: 0\", parse_dates=['time'])\n",
    "comp_pcr = pd.read_csv('comp_pcr.csv', index_col = \"Unnamed: 0\", parse_dates=['time'])\n",
    "comp_pls = pd.read_csv('comp_pls.csv', index_col = \"Unnamed: 0\", parse_dates=['time'])"
   ]
  },
  {
   "cell_type": "code",
   "execution_count": null,
   "metadata": {},
   "outputs": [],
   "source": [
    "rcParams['figure.figsize'] = 10, 5\n",
    "fig, axes = plt.subplots(2, 2)\n",
    "plot1 = sns.lineplot(data=comp_enet, x='time',y='num_coef', ax=axes[0,0])\n",
    "plot1.set(title='Elastic Net', ylabel='# of coefficients', xlabel='Time')\n",
    "plot2 = sns.lineplot(data=comp_gbrt, x='time', y='max_depth', ax=axes[0,1])\n",
    "plot2.set(title='Gradient Boosted Regression Trees', ylabel='Max Depth', xlabel='Time')\n",
    "plot3 = sns.lineplot(data=comp_pcr, x='time', y='num_comp', ax=axes[1,0])\n",
    "plot3.set(title='Principal Component Regression', ylabel='# of components', xlabel='Time')\n",
    "plot4 = sns.lineplot(data=comp_pls, x='time', y='num_comp', ax=axes[1,1])\n",
    "plot4.set(title='Partial Least Squares', ylabel='# of components', xlabel='Time')\n",
    "fig.tight_layout()\n",
    "plt.show()"
   ]
  },
  {
   "cell_type": "code",
   "execution_count": null,
   "metadata": {},
   "outputs": [],
   "source": [
    "var_enet = pd.read_csv('var_imp_net.csv')\n",
    "var_pca = pd.read_csv('var_imp_pca.csv')\n",
    "var_pls = pd.read_csv('var_imp_pls.csv')\n",
    "var_gbrt = pd.read_csv('var_imp_GBRT.csv')"
   ]
  },
  {
   "cell_type": "code",
   "execution_count": null,
   "metadata": {},
   "outputs": [],
   "source": [
    "fea_imp_enet = var_enet.sort_values(['var_imp', 'Feature'], ascending=[True, False]).iloc[-10:]\n",
    "fea_imp_pca = var_pca.sort_values(['var_imp', 'Feature'], ascending=[True, False]).iloc[-10:]\n",
    "fea_imp_pls = var_pls.sort_values(['var_imp', 'Feature'], ascending=[True, False]).iloc[-10:]\n",
    "fea_IMP_gbrt = var_gbrt.sort_values(['var_imp', 'Feature'], ascending=[True, False]).iloc[-10:]\n",
    "fig, axes = plt.subplots(2, 2)\n",
    "fea_imp_enet.plot(kind='barh', x='Feature', y='var_imp', figsize=(7, 5), ax=axes[0,1], legend=None, title='Elastic Net', ylabel='')\n",
    "fea_imp_pca.plot(kind='barh', x='Feature', y='var_imp', figsize=(11, 5), ax=axes[0,0], legend=None, xlabel=None, title='Principal Component Analysis')\n",
    "fea_imp_pls.plot(kind='barh', x='Feature', y='var_imp', figsize=(11, 5), ax=axes[1,0], legend=None, xlabel=None, title='Partial Least Squares')\n",
    "fea_IMP_gbrt.plot(kind='barh', x='Feature', y='var_imp', figsize=(11, 5), ax=axes[1,1], legend=None, xlabel=None, title='Gradient Boosted Regression Trees')\n",
    "fig.tight_layout()\n",
    "\n",
    "plt.show()"
   ]
  },
  {
   "cell_type": "code",
   "execution_count": null,
   "metadata": {},
   "outputs": [],
   "source": [
    "Number_stocks_per_month = Counter(df['DATE'])\n",
    "Number_stocks_per_month = pd.DataFrame(Number_stocks_per_month.items(), columns=['DATE', 'Numer_of_Stocks'])\n"
   ]
  },
  {
   "cell_type": "code",
   "execution_count": null,
   "metadata": {},
   "outputs": [],
   "source": []
  },
  {
   "cell_type": "code",
   "execution_count": null,
   "metadata": {},
   "outputs": [],
   "source": [
    "alt.Chart(Number_stocks_per_month).mark_line().encode(\n",
    "    x='DATE:T',\n",
    "    y=alt.Y('Numer_of_Stocks:Q', title='Number of Stocks (Monthly)'),\n",
    "    color=alt.value('#A32638')\n",
    ").properties(\n",
    "    width=1200,\n",
    "    height=600\n",
    ").configure_axis(\n",
    "    labelFontSize=13,\n",
    "    titleFontSize=14\n",
    ").configure_title(\n",
    "    fontSize=16\n",
    ")"
   ]
  },
  {
   "cell_type": "code",
   "execution_count": null,
   "metadata": {},
   "outputs": [],
   "source": [
    "risk_data.reset_index(inplace=True)"
   ]
  },
  {
   "cell_type": "code",
   "execution_count": null,
   "metadata": {},
   "outputs": [],
   "source": [
    "risk_data['avg'] = np.mean(risk_data['returns'])"
   ]
  },
  {
   "cell_type": "code",
   "execution_count": null,
   "metadata": {},
   "outputs": [],
   "source": [
    "f = alt.Chart(risk_data).mark_line().encode(\n",
    "    x='DATE:T',\n",
    "    y=alt.Y('returns', title='Equity Risk Premium'),\n",
    "    color=alt.value('#A32638')\n",
    ")\n",
    "\n",
    "c = alt.Chart(risk_data).mark_line(color='Blue', strokeDash=[5,1]).encode(\n",
    "    x='DATE:T',\n",
    "    y='avg:Q'\n",
    ")\n",
    "\n",
    "alt.layer(f, c, data=risk_data).properties(\n",
    "    width=1200,\n",
    "    height=600,\n",
    ").configure_axis(\n",
    "    labelFontSize=13,\n",
    "    titleFontSize=15,\n",
    ").configure_title(\n",
    "    fontSize=16\n",
    ")"
   ]
  },
  {
   "cell_type": "code",
   "execution_count": 3,
   "metadata": {},
   "outputs": [],
   "source": [
    "firm_size_dist = df[['DATE', 'mvel1']]"
   ]
  },
  {
   "cell_type": "code",
   "execution_count": null,
   "metadata": {},
   "outputs": [
    {
     "data": {
      "text/plain": [
       "alt.Chart(...)"
      ]
     },
     "execution_count": 14,
     "metadata": {},
     "output_type": "execute_result"
    }
   ],
   "source": [
    "alt.Chart(firm_size_dist).mark_bar().encode(\n",
    "    alt.X('mvel1', bin=alt.BinParams(maxbins=100),title='Size (in thousands)'),\n",
    "    y='count()',\n",
    "    color=alt.value('#A32638')\n",
    ").properties(\n",
    "    width=1200,\n",
    "    height=600\n",
    ")"
   ]
  },
  {
   "cell_type": "code",
   "execution_count": null,
   "metadata": {},
   "outputs": [],
   "source": []
  }
 ],
 "metadata": {
  "kernelspec": {
   "display_name": "statclass",
   "language": "python",
   "name": "python3"
  },
  "language_info": {
   "codemirror_mode": {
    "name": "ipython",
    "version": 3
   },
   "file_extension": ".py",
   "mimetype": "text/x-python",
   "name": "python",
   "nbconvert_exporter": "python",
   "pygments_lexer": "ipython3",
   "version": "3.11.7"
  }
 },
 "nbformat": 4,
 "nbformat_minor": 2
}
